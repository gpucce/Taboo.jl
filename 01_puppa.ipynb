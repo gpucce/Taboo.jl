{
 "cells": [
  {
   "cell_type": "code",
   "execution_count": null,
   "metadata": {},
   "outputs": [],
   "source": [
    "#| hide\n",
    "# im_dict = {i.stem:draw_card(i) for i in tqdm(list(Path(\"./temp_output/\").iterdir()))}\n",
    "# ims_names = list(im_dict.keys())\n",
    "# ims = list(im_dict.values())"
   ]
  },
  {
   "cell_type": "code",
   "execution_count": null,
   "metadata": {},
   "outputs": [],
   "source": [
    "#| hide\n",
    "# output_path = Path(\"formatted_images\")\n",
    "# output_path.mkdir(exist_ok=True, parents=True)\n",
    "# new_names = []\n",
    "# progressbar = tqdm(range(len(ims)))\n",
    "# for i, j in zip(ims_names, ims):\n",
    "#     new_name = re.sub(\"^\\d.*of \", \"\", i)\n",
    "#     new_name = re.sub(\", digi.*\\]__\", \"\", new_name)\n",
    "#     new_names.append(new_name)\n",
    "#     j.save(f\"./formatted_images/{new_name}.png\")\n",
    "#     progressbar.update()\n",
    "# progressbar.close()"
   ]
  }
 ],
 "metadata": {
  "kernelspec": {
   "display_name": "Python 3.9.6 ('taboo')",
   "language": "python",
   "name": "python3"
  },
  "language_info": {
   "name": "python",
   "version": "3.9.6"
  },
  "vscode": {
   "interpreter": {
    "hash": "a0870fa703ca8ca6de4bd799ae106a8c21f8fe6ba65234a069d585d30a120e20"
   }
  }
 },
 "nbformat": 4,
 "nbformat_minor": 2
}
