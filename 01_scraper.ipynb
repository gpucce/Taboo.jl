{
 "cells": [
  {
   "cell_type": "markdown",
   "metadata": {},
   "source": [
    "# Scraper"
   ]
  },
  {
   "cell_type": "code",
   "execution_count": 401,
   "metadata": {},
   "outputs": [],
   "source": [
    "#| default_exp scraper"
   ]
  },
  {
   "cell_type": "code",
   "execution_count": 411,
   "metadata": {},
   "outputs": [],
   "source": [
    "#| export\n",
    "import regex as re\n",
    "import requests\n",
    "import json\n",
    "import os\n",
    "from shutil import rmtree\n",
    "from pathlib import Path\n",
    "\n",
    "import bs4\n",
    "from fastcore.utils import patch\n",
    "from fastcore.test import test_eq"
   ]
  },
  {
   "cell_type": "code",
   "execution_count": 423,
   "metadata": {},
   "outputs": [],
   "source": [
    "#| exports\n",
    "class WikiPage():\n",
    "    def __init__(self, url, wiki_url):\n",
    "        self.url = url\n",
    "        self.wiki_url = wiki_url\n",
    "        self.crawled = self.crawl()\n",
    "        self.title = self.crawled.title.text.replace(\" - Wikipedia\", \"\")\n",
    "\n",
    "    def get_beginning_links(self):\n",
    "        self.page_beginning = self.crawled.find_all(\"div\", {\"id\": \"mw-content-text\"})[0]\n",
    "        self.beginning_links = []\n",
    "        for i in range(2):\n",
    "            try:\n",
    "                self.beginning_links += self.page_beginning.find_all(\"p\")[i].find_all(\"a\", {'title':True})\n",
    "            except:\n",
    "                continue\n",
    "        self.beginning_links = [self.wiki_url + a.get(\"href\")[1:] for a in self.beginning_links]\n",
    "        return self.beginning_links\n",
    "\n",
    "    def crawl(self):\n",
    "        url = self.url\n",
    "        response = requests.get(url)\n",
    "        soup = bs4.BeautifulSoup(response.text, \"html.parser\")\n",
    "        return soup\n",
    "\n",
    "    def __str__(self):\n",
    "        return self.title\n",
    "\n",
    "    __repr__ = __str__"
   ]
  },
  {
   "cell_type": "code",
   "execution_count": 431,
   "metadata": {},
   "outputs": [],
   "source": [
    "#| exports\n",
    "class Crawler():\n",
    "    def __init__(self, output_path, lang=\"en\", first_n=10):\n",
    "        self.lang = lang\n",
    "        self.search_url = f\"https://{lang}.wikipedia.org/w/index.php?search=\"\n",
    "        self.wiki_url = f\"https://{lang}.wikipedia.org/\"\n",
    "        self.pages = {}\n",
    "        self.first_n = first_n\n",
    "        self.output_path = Path(output_path)\n",
    "        if not self.output_path.exists():\n",
    "            self.output_path.mkdir(parents=True, exist_ok=True)\n",
    "    \n",
    "    def create_page_from_query(self, query):\n",
    "        url = self.search_url + query.replace(\" \", \"+\")\n",
    "        return self.create_page(url)\n",
    "\n",
    "    def create_page(self, url):\n",
    "        return WikiPage(url, wiki_url=self.wiki_url)\n",
    "\n",
    "    def create_card(self, url, final=False):\n",
    "        starting_page = self.create_page(url)\n",
    "        out = {\"starting_page\": starting_page, \"children_pages\":{}}\n",
    "        count = 0\n",
    "        for url in out[\"starting_page\"].get_beginning_links():\n",
    "            try:\n",
    "                if final:\n",
    "                    out[\"children_pages\"][url] = self.create_page(url)\n",
    "                else:\n",
    "                    out[\"children_pages\"][url] = None\n",
    "            except:\n",
    "                continue\n",
    "            count += 1\n",
    "            if len(out[\"children_pages\"]) >= self.first_n:\n",
    "                break\n",
    "        return out\n",
    "    \n",
    "    def create_cards(self, query):\n",
    "        url = self.search_url + query.replace(\" \", \"+\")\n",
    "        cards = self.create_card(url, final=False)\n",
    "        out = {\"query\": str(cards[\"starting_page\"]), \"cards\":[]}\n",
    "        for url in cards[\"children_pages\"].keys():\n",
    "            try:\n",
    "                new_card = self.create_card(url, final=True)\n",
    "            except:\n",
    "                continue\n",
    "            out[\"cards\"].append({str(new_card[\"starting_page\"]): [str(i) for i in new_card[\"children_pages\"].values()]})\n",
    "        return out\n",
    "\n",
    "    def save_cards(self, cards):\n",
    "        with open(self.output_path / f\"{cards['query']}.json\", \"w\") as f:\n",
    "            json.dump(cards, f)"
   ]
  },
  {
   "cell_type": "markdown",
   "metadata": {},
   "source": [
    "# Tests"
   ]
  },
  {
   "cell_type": "code",
   "execution_count": 438,
   "metadata": {},
   "outputs": [],
   "source": [
    "#| exports\n",
    "query = \"ecology\"\n",
    "crawler = Crawler(\"./test_data/temp_files\", \"en\")\n",
    "page = crawler.create_page_from_query(\"football\")\n",
    "cards = crawler.create_cards(query)\n",
    "crawler.save_cards(cards)\n",
    "\n",
    "test_eq(crawler.search_url + \"football\", \"https://en.wikipedia.org/w/index.php?search=football\")\n",
    "test_eq(crawler.wiki_url + \"wiki/football\", \"https://en.wikipedia.org/wiki/football\")\n",
    "test_eq(page.url, \"https://en.wikipedia.org/w/index.php?search=football\")\n",
    "assert os.path.exists(f\"./test_data/temp_files/{query.replace(' ', '_').capitalize()}.json\")\n",
    "# rmtree(\"./test_data/temp_files\")"
   ]
  },
  {
   "cell_type": "code",
   "execution_count": 407,
   "metadata": {},
   "outputs": [],
   "source": [
    "#| hide\n",
    "import nbdev; nbdev.nbdev_export()"
   ]
  }
 ],
 "metadata": {
  "kernelspec": {
   "display_name": "Python 3.9.6 ('taboo')",
   "language": "python",
   "name": "python3"
  },
  "language_info": {
   "codemirror_mode": {
    "name": "ipython",
    "version": 3
   },
   "file_extension": ".py",
   "mimetype": "text/x-python",
   "name": "python",
   "nbconvert_exporter": "python",
   "pygments_lexer": "ipython3",
   "version": "3.9.6"
  },
  "orig_nbformat": 4,
  "vscode": {
   "interpreter": {
    "hash": "a0870fa703ca8ca6de4bd799ae106a8c21f8fe6ba65234a069d585d30a120e20"
   }
  }
 },
 "nbformat": 4,
 "nbformat_minor": 2
}
